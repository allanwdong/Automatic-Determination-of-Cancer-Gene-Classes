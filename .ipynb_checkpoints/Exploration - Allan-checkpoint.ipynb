{
 "cells": [
  {
   "cell_type": "code",
   "execution_count": 20,
   "metadata": {},
   "outputs": [],
   "source": [
    "import pandas as pd\n",
    "import numpy as np\n",
    "import matplotlib\n",
    "from matplotlib import pyplot as plt\n",
    "import seaborn as sns\n",
    "%matplotlib inline\n",
    "color = sns.color_palette()\n",
    "\n",
    "import nltk\n",
    "from textblob import TextBlob\n",
    "from scipy import sparse\n",
    "\n",
    "from sklearn.model_selection import train_test_split\n",
    "from sklearn.feature_extraction.text import TfidfVectorizer\n",
    "from sklearn.svm import LinearSVC\n",
    "from sklearn.svm import SVC\n",
    "from sklearn.naive_bayes import MultinomialNB\n",
    "from sklearn.ensemble import RandomForestClassifier"
   ]
  },
  {
   "cell_type": "code",
   "execution_count": null,
   "metadata": {
    "collapsed": true
   },
   "outputs": [],
   "source": []
  },
  {
   "cell_type": "code",
   "execution_count": 3,
   "metadata": {
    "collapsed": true
   },
   "outputs": [],
   "source": [
    "train_text = 'training_text'\n",
    "train_var = 'training_variants'\n",
    "\n",
    "dfv = pd.read_csv(train_var)\n",
    "dft = pd.read_csv(train_text, sep = '\\|\\|', engine = 'python', skiprows = 1, names = ['ID', 'Text'] )"
   ]
  },
  {
   "cell_type": "code",
   "execution_count": 4,
   "metadata": {},
   "outputs": [
    {
     "data": {
      "text/plain": [
       "7    953\n",
       "4    686\n",
       "1    568\n",
       "2    452\n",
       "6    275\n",
       "5    242\n",
       "3     89\n",
       "9     37\n",
       "8     19\n",
       "Name: Class, dtype: int64"
      ]
     },
     "execution_count": 4,
     "metadata": {},
     "output_type": "execute_result"
    }
   ],
   "source": [
    "dfv.Class.value_counts()"
   ]
  },
  {
   "cell_type": "code",
   "execution_count": 5,
   "metadata": {},
   "outputs": [
    {
     "data": {
      "text/plain": [
       "(3321, 2)"
      ]
     },
     "execution_count": 5,
     "metadata": {},
     "output_type": "execute_result"
    }
   ],
   "source": [
    "dft.shape"
   ]
  },
  {
   "cell_type": "code",
   "execution_count": 27,
   "metadata": {
    "scrolled": false
   },
   "outputs": [],
   "source": [
    "df = pd.merge(dfv, dft, how = 'inner', on = 'ID')"
   ]
  },
  {
   "cell_type": "code",
   "execution_count": 34,
   "metadata": {},
   "outputs": [],
   "source": [
    "df_small = df[:10]\n",
    "pd.to_pickle(df_small, '../Project-three-mcnulty/sample.pkl')"
   ]
  },
  {
   "cell_type": "code",
   "execution_count": 35,
   "metadata": {},
   "outputs": [],
   "source": [
    "y = df[['ID', 'Class']]\n",
    "x = df[['ID', 'Text']]\n",
    "x_train, x_test, y_train, y_test = train_test_split(x, y, test_size =0.25)"
   ]
  },
  {
   "cell_type": "code",
   "execution_count": 36,
   "metadata": {},
   "outputs": [],
   "source": [
    "text = list(x_train.Text)"
   ]
  },
  {
   "cell_type": "code",
   "execution_count": 37,
   "metadata": {},
   "outputs": [],
   "source": [
    "vectorizer = TfidfVectorizer(stop_words = 'english', ngram_range=(1,3))\n",
    "doc_vectors = vectorizer.fit_transform(text)\n",
    "classes = np.array(y_train.Class)\n",
    "test_vector = vectorizer.transform(x_test.Text)"
   ]
  },
  {
   "cell_type": "code",
   "execution_count": 38,
   "metadata": {
    "collapsed": true
   },
   "outputs": [],
   "source": [
    "# Multinomial Naive Bayes\n",
    "model = MultinomialNB().fit(doc_vectors, classes)\n",
    "predictions = model.predict(test_vector)\n",
    "\n",
    "testing_NB = pd.merge(x_test, y_test, on='ID').dropna(how='all')\n",
    "predict_NB = pd.concat([testing_NB, pd.Series(predictions)], axis = 1)\n",
    "predict_NB.columns = ['ID', 'Text', 'Class', 'Predicted']\n",
    "accuracy_NB = len(list(predict_NB[predict_NB.Class == predict_NB.Predicted].Class))/len(list(predict_NB.Class))\n"
   ]
  },
  {
   "cell_type": "code",
   "execution_count": null,
   "metadata": {},
   "outputs": [],
   "source": [
    "# Support Vector Classifier\n",
    "model = LinearSVC().fit(doc_vectors, classes)\n",
    "predictions = model.predict(test_vector)\n",
    "\n",
    "testing_SVC = pd.merge(x_test, y_test, on='ID').dropna(how='all')\n",
    "predict_SVC = pd.concat([testing_SVC, pd.Series(predictions)], axis = 1)\n",
    "predict_SVC.columns = ['ID', 'Text', 'Class', 'Predicted']\n",
    "accuracy_SVC = len(list(predict_SVC[predict_SVC.Class == predict_SVC.Predicted].Class))/len(list(predict_SVC.Class))\n"
   ]
  },
  {
   "cell_type": "code",
   "execution_count": null,
   "metadata": {},
   "outputs": [],
   "source": [
    "# Support Vector Classifier, return probability\n",
    "model = SVC(kernel = 'linear', probability = True).fit(doc_vectors, classes)\n",
    "predictions = model.predict_proba(test_vector)\n",
    "\n",
    "testing_SVC1 = pd.merge(x_test, y_test, on='ID').dropna(how='all')\n",
    "SVC1predictions = pd.DataFrame(predictions)\n",
    "predict_SVC1 = pd.merge(testing_SVC1.reset_index(), SVC1predictions.reset_index(), on ='index')\n",
    "predict_SVC1.columns = ['ID', 'Text', 'Class', 'Predicted', 1, 2, 3, 4, 5, 6, 7, 8, 9]\n"
   ]
  },
  {
   "cell_type": "code",
   "execution_count": null,
   "metadata": {
    "collapsed": true
   },
   "outputs": [],
   "source": [
    "# Random Forest Classifier\n",
    "model = RandomForestClassifier(n_estimators = 20).fit(doc_vectors, classes)\n",
    "predictions = model.predict(test_vector)\n",
    "\n",
    "testing_RF = pd.merge(x_test, y_test, on='ID').dropna(how='all')\n",
    "predict_RF = pd.concat([testing_RF, pd.Series(predictions)], axis = 1)\n",
    "predict_RF.columns = ['ID', 'Text', 'Class', 'Predicted']\n",
    "accuracy_RF = len(list(predict_RF[predict_RF.Class == predict_RF.Predicted].Class))/len(list(predict_RF.Class))\n"
   ]
  },
  {
   "cell_type": "code",
   "execution_count": null,
   "metadata": {
    "collapsed": true
   },
   "outputs": [],
   "source": [
    "feature_importances = pd.DataFrame(model.feature_importances_)\n",
    "\n",
    "decisionpath = model.decision_path(test_vector)\n",
    "decisions = pd.DataFrame(decisionpath[0].toarray())"
   ]
  },
  {
   "cell_type": "code",
   "execution_count": null,
   "metadata": {
    "collapsed": true
   },
   "outputs": [],
   "source": [
    "# Check some out-of-the-box accuracies\n",
    "print('Naive Bayes Accuracy: %r' %accuracy_NB)\n",
    "print('Support Vector Accuracy: %r' %accuracy_SVC)\n",
    "print('Random Forest Accuracy: %r' %accuracy_RF)"
   ]
  }
 ],
 "metadata": {
  "kernelspec": {
   "display_name": "Python 3",
   "language": "python",
   "name": "python3"
  },
  "language_info": {
   "codemirror_mode": {
    "name": "ipython",
    "version": 3
   },
   "file_extension": ".py",
   "mimetype": "text/x-python",
   "name": "python",
   "nbconvert_exporter": "python",
   "pygments_lexer": "ipython3",
   "version": "3.6.1"
  }
 },
 "nbformat": 4,
 "nbformat_minor": 2
}
